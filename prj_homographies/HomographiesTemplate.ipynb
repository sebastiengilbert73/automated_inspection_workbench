{
 "cells": [
  {
   "cell_type": "code",
   "execution_count": 1,
   "id": "9322a70d",
   "metadata": {},
   "outputs": [],
   "source": [
    "import cv2\n",
    "import numpy as np\n",
    "import os\n",
    "import matplotlib.pyplot as plt\n",
    "import copy"
   ]
  },
  {
   "cell_type": "code",
   "execution_count": 2,
   "id": "7aef036d",
   "metadata": {},
   "outputs": [
    {
     "name": "stderr",
     "output_type": "stream",
     "text": [
      "[ WARN:0@0.464] global loadsave.cpp:244 findDecoder imread_('/usercode/images/electronics/mcon1.jpg'): can't open/read file: check file path/integrity\n",
      "[ WARN:0@0.465] global loadsave.cpp:244 findDecoder imread_('/usercode/images/electronics/mcon2.jpg'): can't open/read file: check file path/integrity\n",
      "[ WARN:0@0.465] global loadsave.cpp:244 findDecoder imread_('/usercode/images/electronics/mcon3.jpg'): can't open/read file: check file path/integrity\n",
      "[ WARN:0@0.465] global loadsave.cpp:244 findDecoder imread_('/usercode/images/electronics/mcon4.jpg'): can't open/read file: check file path/integrity\n",
      "[ WARN:0@0.465] global loadsave.cpp:244 findDecoder imread_('/usercode/images/electronics/mcon5.jpg'): can't open/read file: check file path/integrity\n",
      "[ WARN:0@0.465] global loadsave.cpp:244 findDecoder imread_('/usercode/images/electronics/mcon6.jpg'): can't open/read file: check file path/integrity\n"
     ]
    }
   ],
   "source": [
    "image_filenames = ['mcon1.jpg', 'mcon2.jpg', 'mcon3.jpg', 'mcon4.jpg', 'mcon5.jpg', 'mcon6.jpg']\n",
    "images_directory = \"/usercode/images/electronics\"\n",
    "# Load the images\n",
    "images = [cv2.imread(os.path.join(images_directory, filename)) for filename in image_filenames]"
   ]
  },
  {
   "cell_type": "code",
   "execution_count": 3,
   "id": "396b94f6",
   "metadata": {},
   "outputs": [
    {
     "ename": "error",
     "evalue": "OpenCV(4.7.0) /io/opencv/modules/imgproc/src/color.cpp:182: error: (-215:Assertion failed) !_src.empty() in function 'cvtColor'\n",
     "output_type": "error",
     "traceback": [
      "\u001b[0;31m---------------------------------------------------------------------------\u001b[0m",
      "\u001b[0;31merror\u001b[0m                                     Traceback (most recent call last)",
      "Cell \u001b[0;32mIn[3], line 4\u001b[0m\n\u001b[1;32m      2\u001b[0m fig, axs \u001b[38;5;241m=\u001b[39m plt\u001b[38;5;241m.\u001b[39msubplots(\u001b[38;5;241m2\u001b[39m, \u001b[38;5;241m3\u001b[39m, figsize\u001b[38;5;241m=\u001b[39m(\u001b[38;5;241m10\u001b[39m, \u001b[38;5;241m5\u001b[39m))\n\u001b[1;32m      3\u001b[0m \u001b[38;5;28;01mfor\u001b[39;00m img_ndx \u001b[38;5;129;01min\u001b[39;00m \u001b[38;5;28mrange\u001b[39m(\u001b[38;5;241m6\u001b[39m):\n\u001b[0;32m----> 4\u001b[0m     axs[img_ndx\u001b[38;5;241m/\u001b[39m\u001b[38;5;241m/\u001b[39m\u001b[38;5;241m3\u001b[39m, img_ndx\u001b[38;5;241m%\u001b[39m\u001b[38;5;241m3\u001b[39m]\u001b[38;5;241m.\u001b[39mimshow(\u001b[43mcv2\u001b[49m\u001b[38;5;241;43m.\u001b[39;49m\u001b[43mcvtColor\u001b[49m\u001b[43m(\u001b[49m\u001b[43mimages\u001b[49m\u001b[43m[\u001b[49m\u001b[43mimg_ndx\u001b[49m\u001b[43m]\u001b[49m\u001b[43m,\u001b[49m\u001b[43m \u001b[49m\u001b[43mcv2\u001b[49m\u001b[38;5;241;43m.\u001b[39;49m\u001b[43mCOLOR_BGR2RGB\u001b[49m\u001b[43m)\u001b[49m)\n",
      "\u001b[0;31merror\u001b[0m: OpenCV(4.7.0) /io/opencv/modules/imgproc/src/color.cpp:182: error: (-215:Assertion failed) !_src.empty() in function 'cvtColor'\n"
     ]
    },
    {
     "data": {
      "image/png": "[encoded data removed]",
      "text/plain": [
       "<Figure size 1000x500 with 6 Axes>"
      ]
     },
     "metadata": {},
     "output_type": "display_data"
    }
   ],
   "source": [
    "# Display the images\n",
    "fig, axs = plt.subplots(2, 3, figsize=(10, 5))\n",
    "for img_ndx in range(6):\n",
    "    axs[img_ndx//3, img_ndx%3].imshow(cv2.cvtColor(images[img_ndx], cv2.COLOR_BGR2RGB))"
   ]
  },
  {
   "cell_type": "code",
   "execution_count": null,
   "id": "a6d3b991",
   "metadata": {},
   "outputs": [],
   "source": [
    "# Corner locations that we found in the previous exercise\n",
    "corners_arr_list = [np.array([[168, 145], [449, 139], [453, 294], [170, 300]], dtype=np.float32),\n",
    "np.array([[172, 166], [447, 104], [480, 256], [205, 319]], dtype=np.float32),\n",
    "np.array([[87, 172], [366, 138], [385, 293], [104, 327]], dtype=np.float32),\n",
    "np.array([[327, 209], [609, 181], [623, 337], [341, 364]], dtype=np.float32),\n",
    "np.array([[143, 269], [424, 233], [442, 389], [160, 424]], dtype=np.float32),\n",
    "np.array([[338, 180], [618, 220], [597, 376], [316, 335]], dtype=np.float32)]"
   ]
  },
  {
   "cell_type": "code",
   "execution_count": null,
   "id": "54718368",
   "metadata": {},
   "outputs": [],
   "source": [
    "# Draw the corners\n",
    "annotated_images = []\n",
    "for img_ndx in range(len(images)):\n",
    "    annotated_img = copy.deepcopy(images[img_ndx])\n",
    "    # NW corner\n",
    "    cv2.circle(annotated_img, corners_arr_list[img_ndx][0].astype(int), 11, (255, 0, 0), 2)\n",
    "    # NE corner\n",
    "    cv2.circle(annotated_img, corners_arr_list[img_ndx][1].astype(int), 11, (0, 255, 0), 2)\n",
    "    # SE corner\n",
    "    cv2.circle(annotated_img, corners_arr_list[img_ndx][2].astype(int), 11, (0, 0, 255), 2)\n",
    "    # SW corner\n",
    "    cv2.circle(annotated_img, corners_arr_list[img_ndx][3].astype(int), 11, (0, 255, 255), 2)\n",
    "    annotated_images.append(annotated_img)\n",
    "# Display the images\n",
    "fig, axs = plt.subplots(2, 3, figsize=(10, 5))\n",
    "for img_ndx in range(6):\n",
    "    axs[img_ndx//3, img_ndx%3].imshow(cv2.cvtColor(annotated_images[img_ndx], cv2.COLOR_BGR2RGB))"
   ]
  },
  {
   "cell_type": "code",
   "execution_count": null,
   "id": "650c6f37",
   "metadata": {},
   "outputs": [],
   "source": [
    "# Perspective transformation\n",
    "# Define arbitrary points where the object corners will be mapped\n",
    "warped_corners = np.array([[100, 300], [900, 300], [900, 700], [100, 700]], dtype=np.float32)\n",
    "# For each image, compute the perspective transformation matrix and the warped image\n",
    "warped_images = []\n",
    "for image_ndx in range(len(images)):\n",
    "    # >>> Compute the transformation matrix. Use cv2.getPerspectiveTransform().\n",
    "    perspective_mtx = None\n",
    "    # >>> Create a warped image. use cv2.warpPerspective().\n",
    "    warped_image = None\n",
    "    warped_images.append(warped_image)"
   ]
  },
  {
   "cell_type": "code",
   "execution_count": null,
   "id": "651e2ee9",
   "metadata": {},
   "outputs": [],
   "source": [
    "# Display the warped images\n",
    "fig, axs = plt.subplots(2, 3, figsize=(10, 5))\n",
    "for img_ndx in range(6):\n",
    "    axs[img_ndx//3, img_ndx%3].imshow(cv2.cvtColor(warped_images[img_ndx], cv2.COLOR_BGR2RGB))"
   ]
  },
  {
   "cell_type": "code",
   "execution_count": null,
   "id": "97d4cb35",
   "metadata": {},
   "outputs": [],
   "source": [
    "# Mask everything except the central chip\n",
    "central_chip_corners_in_warped_image = [[445, 365], [570, 490], [445, 615], [320, 490]]\n",
    "masked_images = []\n",
    "for image_ndx in range(len(warped_images)):\n",
    "    mask = np.zeros(warped_images[image_ndx].shape, dtype=np.uint8)\n",
    "    # >>> Draw a white filled polygon in the mask with cv2.fillPoly(img, pts, color)\n",
    "    # where pts is a numpy.array of the list of polygons to fill (in this case, a single polygon)\n",
    "    \n",
    "    # >>> With the mask, turn the warped image to black except in the chip area. Use np.minimum().\n",
    "    masked_image = None\n",
    "    masked_images.append(masked_image)"
   ]
  },
  {
   "cell_type": "code",
   "execution_count": null,
   "id": "af3b67b6",
   "metadata": {},
   "outputs": [],
   "source": [
    "# Display the masked images\n",
    "fig, axs = plt.subplots(2, 3, figsize=(10, 5))\n",
    "for img_ndx in range(6):\n",
    "    axs[img_ndx//3, img_ndx%3].imshow(cv2.cvtColor(masked_images[img_ndx], cv2.COLOR_BGR2RGB))"
   ]
  },
  {
   "cell_type": "code",
   "execution_count": null,
   "id": "37ab6f3a",
   "metadata": {},
   "outputs": [],
   "source": []
  }
 ],
 "metadata": {
  "kernelspec": {
   "display_name": "Python 3 (ipykernel)",
   "language": "python",
   "name": "python3"
  },
  "language_info": {
   "codemirror_mode": {
    "name": "ipython",
    "version": 3
   },
   "file_extension": ".py",
   "mimetype": "text/x-python",
   "name": "python",
   "nbconvert_exporter": "python",
   "pygments_lexer": "ipython3",
   "version": "3.10.6"
  }
 },
 "nbformat": 4,
 "nbformat_minor": 5
}
