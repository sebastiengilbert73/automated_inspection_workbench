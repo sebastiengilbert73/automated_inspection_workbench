{
 "cells": [
  {
   "cell_type": "code",
   "execution_count": null,
   "id": "69377d6d",
   "metadata": {},
   "outputs": [],
   "source": [
    "import torch\n",
    "import torchvision\n",
    "import matplotlib.pyplot as plt"
   ]
  },
  {
   "cell_type": "code",
   "execution_count": null,
   "id": "e2d2c4f3",
   "metadata": {},
   "outputs": [],
   "source": [
    "# Define a Classif10 neural network\n",
    "class Classif10(torch.nn.Module):\n",
    "    def __init__(self, number_of_conv_kernels1,\n",
    "                 number_of_conv_kernels2,\n",
    "                 number_of_conv_kernels3,\n",
    "                 hidden_layer_size,\n",
    "                 dropout_proportion):\n",
    "        super(Classif10, self).__init__()\n",
    "        # >>> Define the building blocks\n",
    "        \n",
    "    def forward(self, input_tsr):  # input_tsr.shape = (N, 1, 28, 28)\n",
    "        # >>> Write the flow of tensors"
   ]
  },
  {
   "cell_type": "code",
   "execution_count": null,
   "id": "815b4e2c",
   "metadata": {},
   "outputs": [],
   "source": [
    "# Utility function\n",
    "def numberOfCorrectPredictions(predictions_tsr, target_class_tsr):\n",
    "    return sum(torch.argmax(predictions_tsr, dim=1) == target_class_tsr).item()"
   ]
  },
  {
   "cell_type": "code",
   "execution_count": null,
   "id": "a236fd8e",
   "metadata": {},
   "outputs": [],
   "source": [
    "# Create dataloaders for the mnist dataset\n",
    "transform = torchvision.transforms.ToTensor()\n",
    "mnist_dataset = torchvision.datasets.MNIST(\"./\", train=True, download=True, transform=transform)\n",
    "train_dataset, validation_dataset = torch.utils.data.random_split(mnist_dataset, [48000, 12000])\n",
    "batch_size = 16\n",
    "train_dataloader = torch.utils.data.DataLoader(train_dataset, batch_size=batch_size, shuffle=True)\n",
    "validation_dataloader = torch.utils.data.DataLoader(validation_dataset, batch_size=batch_size, shuffle=False)"
   ]
  },
  {
   "cell_type": "code",
   "execution_count": null,
   "id": "b1b7ebea",
   "metadata": {},
   "outputs": [],
   "source": [
    "# Create the neural network\n",
    "# >>> Create a neural network of type Classif10, with\n",
    "# number_of_conv_kernels1=16,\n",
    "# number_of_conv_kernels2=32,\n",
    "# number_of_conv_kernels3=64,\n",
    "# hidden_layer_size=256,\n",
    "# dropout_proportion=0.1\n",
    "neural_net = None\n",
    "\n",
    "# Optimization parameters\n",
    "learning_rate = 0.001\n",
    "weight_decay = 0.0000001\n",
    "criterion = torch.nn.CrossEntropyLoss()\n",
    "optimizer = torch.optim.Adam(neural_net.parameters(), lr=learning_rate, weight_decay=weight_decay)"
   ]
  },
  {
   "cell_type": "code",
   "execution_count": null,
   "id": "1467672e",
   "metadata": {},
   "outputs": [],
   "source": [
    "# Record statistics\n",
    "epochs = []\n",
    "train_losses = []\n",
    "validation_losses = []\n",
    "accuracies = []\n",
    "number_of_epochs = 10\n",
    "highest_validation_accuracy = 0.0\n",
    "champion_neural_net = None"
   ]
  },
  {
   "cell_type": "code",
   "execution_count": null,
   "id": "6856ba13",
   "metadata": {},
   "outputs": [],
   "source": [
    "    for epoch in range(1, number_of_epochs + 1):\n",
    "        print(f\"Epoch {epoch}\")\n",
    "        # Set the neural network to training mode\n",
    "        neural_net.train()\n",
    "        running_loss = 0.0\n",
    "        number_of_batches = 0\n",
    "        for input_tsr, target_class_tsr in train_dataloader:\n",
    "            # >>> Write the code that must happen in the training loop\n",
    "\n",
    "            running_loss += loss.item()\n",
    "            number_of_batches += 1\n",
    "            if number_of_batches % 100 == 1:\n",
    "                print(\".\", flush=True, end='')\n",
    "        average_training_loss = running_loss / number_of_batches\n",
    "        # Evaluate with the validation dataset\n",
    "        # Set the neural network to evaluation (inference) mode\n",
    "        neural_net.eval()\n",
    "        validation_running_loss = 0.0\n",
    "        number_of_batches = 0\n",
    "        number_of_correct_predictions = 0\n",
    "        number_of_predictions = 0\n",
    "        for validation_input_tsr, validation_target_output_tsr in validation_dataloader:\n",
    "            # >>> Write the code that must happen in the validation loop\n",
    "            \n",
    "            validation_running_loss += validation_loss.item()\n",
    "            number_of_correct_predictions += numberOfCorrectPredictions(validation_output_tsr,\n",
    "                                                                        validation_target_output_tsr)\n",
    "            number_of_predictions += validation_input_tsr.shape[0]\n",
    "            number_of_batches += 1\n",
    "        average_validation_loss = validation_running_loss / number_of_batches\n",
    "        accuracy = number_of_correct_predictions / number_of_predictions\n",
    "        print(\n",
    "            f\"average_training_loss = {average_training_loss}; average_validation_loss = {average_validation_loss}; accuracy = {accuracy}\")\n",
    "        epochs.append(epoch)\n",
    "        train_losses.append(average_training_loss)\n",
    "        validation_losses.append(average_validation_loss)\n",
    "        accuracies.append(accuracy)\n",
    "        if accuracy > highest_validation_accuracy:\n",
    "            highest_validation_accuracy = accuracy\n",
    "            champion_neural_net = neural_net"
   ]
  },
  {
   "cell_type": "code",
   "execution_count": null,
   "id": "487070f8",
   "metadata": {},
   "outputs": [],
   "source": [
    "# Display the metrics evolution\n",
    "fig1, ax1 = plt.subplots()\n",
    "ax1.set_xlabel('epoch')\n",
    "ax1.set_ylabel('loss')\n",
    "ax1.plot(epochs, train_losses, color='b', label='Training loss')\n",
    "ax1.plot(epochs, validation_losses, color='r', label='Validation loss')\n",
    "ax1.grid(True)\n",
    "ax1.legend(loc='right')\n",
    "ax2 = ax1.twinx()  # Instantiate a second axes that shares the same x-axis\n",
    "ax2.set_ylabel('accuracy', color='g')\n",
    "ax2.plot(epochs, accuracies, color='g', label='Accuracy')\n",
    "ax2.legend(loc='upper right')\n",
    "plt.show()"
   ]
  },
  {
   "cell_type": "code",
   "execution_count": null,
   "id": "71198ac9",
   "metadata": {},
   "outputs": [],
   "source": [
    "# Test: Load the mnist test dataset\n",
    "mnist_test_dataset = torchvision.datasets.MNIST(\"./\", train=False, download=True, transform=transform)"
   ]
  },
  {
   "cell_type": "code",
   "execution_count": null,
   "id": "88a7e3d7",
   "metadata": {},
   "outputs": [],
   "source": [
    "# >>> Choose a sample index in [1, 9999]\n",
    "sample_test_tsr, class_ndx = mnist_test_dataset[100]\n",
    "# Run the sample tensor through the champion neural network\n",
    "sample_output_tsr = champion_neural_net(sample_test_tsr.unsqueeze(0).to('cpu'))\n",
    "print(f\"sample_output_tsr = \\n{sample_output_tsr}\")\n",
    "predicted_class = torch.argmax(sample_output_tsr, dim=1).item()\n",
    "print(f\"predicted_class = {predicted_class}; True class = {class_ndx}\")"
   ]
  },
  {
   "cell_type": "code",
   "execution_count": null,
   "id": "326025a4",
   "metadata": {},
   "outputs": [],
   "source": [
    "# Display the sample image\n",
    "sample_test_arr = sample_test_tsr.numpy()\n",
    "plt.imshow(sample_test_arr.squeeze(0))"
   ]
  }
 ],
 "metadata": {
  "kernelspec": {
   "display_name": "Python 3 (ipykernel)",
   "language": "python",
   "name": "python3"
  },
  "language_info": {
   "codemirror_mode": {
    "name": "ipython",
    "version": 3
   },
   "file_extension": ".py",
   "mimetype": "text/x-python",
   "name": "python",
   "nbconvert_exporter": "python",
   "pygments_lexer": "ipython3",
   "version": "3.10.6"
  }
 },
 "nbformat": 4,
 "nbformat_minor": 5
}
