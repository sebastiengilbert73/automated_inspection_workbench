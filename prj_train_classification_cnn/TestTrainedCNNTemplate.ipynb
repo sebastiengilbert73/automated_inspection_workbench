{
 "cells": [
  {
   "cell_type": "code",
   "execution_count": null,
   "id": "aba09d89",
   "metadata": {},
   "outputs": [],
   "source": [
    "import torch\n",
    "import torchvision\n",
    "import matplotlib.pyplot as plt\n",
    "import random"
   ]
  },
  {
   "cell_type": "code",
   "execution_count": null,
   "id": "ad57d7e4",
   "metadata": {},
   "outputs": [],
   "source": [
    "# Define a Classif10 neural network\n",
    "class Classif10(torch.nn.Module):\n",
    "    def __init__(self, number_of_conv_kernels1,\n",
    "                 number_of_conv_kernels2,\n",
    "                 number_of_conv_kernels3,\n",
    "                 hidden_layer_size,\n",
    "                 dropout_proportion):\n",
    "        super(Classif10, self).__init__()\n",
    "        self.number_of_conv_kernels1 = number_of_conv_kernels1\n",
    "        self.number_of_conv_kernels2 = number_of_conv_kernels2\n",
    "        self.number_of_conv_kernels3 = number_of_conv_kernels3\n",
    "        self.hidden_layer_size = hidden_layer_size\n",
    "\n",
    "        self.conv1 = torch.nn.Conv2d(in_channels=1, out_channels=self.number_of_conv_kernels1,\n",
    "                                     kernel_size=(3, 3), stride=1, padding='same')\n",
    "        self.conv2 = torch.nn.Conv2d(in_channels=self.number_of_conv_kernels1, out_channels=self.number_of_conv_kernels2,\n",
    "                                     kernel_size=(3, 3), stride=1, padding='same')\n",
    "        self.conv3 = torch.nn.Conv2d(in_channels=self.number_of_conv_kernels2, out_channels=self.number_of_conv_kernels3,\n",
    "                                     kernel_size=(3, 3), stride=1, padding='same')\n",
    "        self.dropout2d = torch.nn.Dropout2d(p=dropout_proportion)\n",
    "        self.maxpool2d = torch.nn.MaxPool2d(kernel_size=(2, 2))\n",
    "        self.batchnorm2d = torch.nn.BatchNorm2d(num_features=self.number_of_conv_kernels2)\n",
    "        self.linear1 = torch.nn.Linear(in_features=self.number_of_conv_kernels3 * 3 * 3, out_features=self.hidden_layer_size)\n",
    "        self.linear2 = torch.nn.Linear(in_features=self.hidden_layer_size, out_features=10)\n",
    "        self.dropout1d = torch.nn.Dropout1d(p=dropout_proportion)\n",
    "\n",
    "    def forward(self, input_tsr):  # input_tsr.shape = (N, 1, 28, 28)\n",
    "        act1 = torch.nn.functional.relu(self.conv1(input_tsr))  # (N, C1, 28, 28)\n",
    "        act2 = self.maxpool2d(act1)  # (N, C1, 14, 14)\n",
    "        act3 = self.dropout2d(act2)  # (N, C1, 14, 14)\n",
    "        act4 = torch.nn.functional.relu(self.conv2(act3))  # (N, C2, 14, 14)\n",
    "        act5 = self.maxpool2d(act4)  # (N, C2, 7, 7)\n",
    "        act6 = self.batchnorm2d(act5)  # (N, C2, 7, 7)\n",
    "        act7 = torch.nn.functional.relu(self.conv3(act6))  # (N, C3, 7, 7)\n",
    "        act8 = self.maxpool2d(act7)  # (N, C3, 3, 3)\n",
    "        act9 = act8.view(-1, self.number_of_conv_kernels3 * 3 * 3)  # (N, C3 * 3 * 3)\n",
    "        act10 = torch.nn.functional.relu(self.linear1(act9))  # (N, H)\n",
    "        act11 = self.dropout1d(act10)  # (N, H)\n",
    "        act12 = self.linear2(act11)  # (N, 10)\n",
    "        return act12"
   ]
  },
  {
   "cell_type": "code",
   "execution_count": null,
   "id": "816e7e82",
   "metadata": {},
   "outputs": [],
   "source": [
    "# Create the neural network\n",
    "neural_net = Classif10(16, 32, 64, 256, 0.1)\n",
    "# Load the champion classification neural network\n",
    "neural_net.load_state_dict(torch.load(\"/usercode/classification_champion.pth\"))\n",
    "\n",
    "# >>> Set the neural network to inference (eval) mode\n"
   ]
  },
  {
   "cell_type": "code",
   "execution_count": null,
   "id": "428cd419",
   "metadata": {},
   "outputs": [],
   "source": [
    "# Load the MNIST test dataset\n",
    "transform = torchvision.transforms.ToTensor()\n",
    "# >>> Load the MNIST test dataset: set train=False\n"
   ]
  },
  {
   "cell_type": "code",
   "execution_count": null,
   "id": "def66e6c",
   "metadata": {},
   "outputs": [],
   "source": [
    "# Select a random sample from the test dataset\n",
    "random_indices = random.sample(range(0, len(mnist_test_dataset)), k=16)\n",
    "# For each index, get the image and pass it through the neural network\n",
    "predicted_classes = []\n",
    "image_tsrs = []\n",
    "true_classes = []\n",
    "for i in random_indices:\n",
    "    image_tsr, class_ndx = mnist_test_dataset[i]\n",
    "    # >>> Pass the image tensor through the neural network\n",
    "    output_tsr = None\n",
    "    # >>> Extract the index of the highest logit value\n",
    "    predicted_class = None\n",
    "    predicted_classes.append(predicted_class)\n",
    "    image_tsrs.append(image_tsr)\n",
    "    true_classes.append(class_ndx)\n"
   ]
  },
  {
   "cell_type": "code",
   "execution_count": null,
   "id": "ebb2bc90",
   "metadata": {},
   "outputs": [],
   "source": [
    "# Display the images, the true class and the predicted class\n",
    "fig, axs = plt.subplots(4, 4, figsize=(12, 12))\n",
    "for i, ax in enumerate(axs.flat):\n",
    "    if i < len(image_tsrs):\n",
    "        ax.imshow(image_tsrs[i].squeeze(0), cmap='gray')\n",
    "        ax.text(0.95, 0.01, f'True class: {true_classes[i]}\\nPredicted class: {predicted_classes[i]}',\n",
    "        verticalalignment='bottom', horizontalalignment='right',\n",
    "        transform=ax.transAxes,\n",
    "        color='red', fontsize=15)\n",
    "\n",
    "    ax.axis('off')\n",
    "\n",
    "plt.tight_layout()\n",
    "plt.show()\n",
    "        "
   ]
  },
  {
   "cell_type": "code",
   "execution_count": null,
   "id": "84d60bff",
   "metadata": {},
   "outputs": [],
   "source": []
  }
 ],
 "metadata": {
  "kernelspec": {
   "display_name": "Python 3 (ipykernel)",
   "language": "python",
   "name": "python3"
  },
  "language_info": {
   "codemirror_mode": {
    "name": "ipython",
    "version": 3
   },
   "file_extension": ".py",
   "mimetype": "text/x-python",
   "name": "python",
   "nbconvert_exporter": "python",
   "pygments_lexer": "ipython3",
   "version": "3.10.12"
  }
 },
 "nbformat": 4,
 "nbformat_minor": 5
}
