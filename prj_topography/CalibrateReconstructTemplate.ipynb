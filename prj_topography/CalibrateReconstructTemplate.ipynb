{
 "cells": [
  {
   "cell_type": "code",
   "execution_count": null,
   "id": "b1d84bdc",
   "metadata": {},
   "outputs": [],
   "source": [
    "import cv2\n",
    "import numpy as np\n",
    "import os\n",
    "import matplotlib.pyplot as plt"
   ]
  },
  {
   "cell_type": "code",
   "execution_count": null,
   "id": "8aa90164",
   "metadata": {},
   "outputs": [],
   "source": [
    "calibration_images_filepaths = [\"/usercode/images/topography/slice_20b.jpg\", \"/usercode/images/topography/slice_40b.jpg\", \"/usercode/images/topography/slice_60b.jpg\"]\n",
    "# Read the calibration images\n",
    "# They represent the laser line on steps at 20 mm, 40 mm, and 60 mm.\n",
    "calibration_imgs = [cv2.imread(filepath) for filepath in calibration_images_filepaths]"
   ]
  },
  {
   "cell_type": "code",
   "execution_count": null,
   "id": "925910ab",
   "metadata": {},
   "outputs": [],
   "source": [
    "# >>> Blur the red channel of each image, with a blurring kernel of size (5, 5)\n",
    "blurred_slice_20_img = None\n",
    "blurred_slice_40_img = None\n",
    "blurred_slice_60_img = None"
   ]
  },
  {
   "cell_type": "code",
   "execution_count": null,
   "id": "83bff858",
   "metadata": {},
   "outputs": [],
   "source": [
    "# For each x, identify the y where the red intensity is maximum. Store y_max in three dictionaries.\n",
    "# If the maximum intensity is below the threshold, store -1 instead.\n",
    "minimum_red_value = 10\n",
    "slice_img_sizeHW = blurred_slice_20_img.shape\n",
    "x_to_ymax_20 = {}\n",
    "x_to_ymax_40 = {}\n",
    "x_to_ymax_60 = {}\n",
    "for x in range(slice_img_sizeHW[1]):\n",
    "    # >>> Extract a single column of each blurred image\n",
    "    column_20_img = None\n",
    "    column_40_img = None\n",
    "    column_60_img = None\n",
    "    # >>> Locate the y where the red intensity is maximum. \n",
    "    _, max_val_20, _, max_loc_20 = None\n",
    "    _, max_val_40, _, max_loc_40 = None\n",
    "    _, max_val_60, _, max_loc_60 = None\n",
    "    if max_val_20 > minimum_red_value:\n",
    "        x_to_ymax_20[x] = max_loc_20[1]  # We keep the y value\n",
    "    else:\n",
    "        x_to_ymax_20[x] = -1  # Flag to indicate that the signal is too weak\n",
    "    if max_val_40 > minimum_red_value:\n",
    "        x_to_ymax_40[x] = max_loc_40[1]  # We keep the y value\n",
    "    else:\n",
    "        x_to_ymax_40[x] = -1  # Flag to indicate that the signal is too weak\n",
    "    if max_val_60 > minimum_red_value:\n",
    "        x_to_ymax_60[x] = max_loc_60[1]  # We keep the y value\n",
    "    else:\n",
    "        x_to_ymax_60[x] = -1  # Flag to indicate that the signal is too weak"
   ]
  },
  {
   "cell_type": "code",
   "execution_count": null,
   "id": "94c8b933",
   "metadata": {},
   "outputs": [],
   "source": [
    "# For each x, fit a line that best satisfies the three points (y_max, Y) where Y is the height in mm\n",
    "x_to_a_b = {}\n",
    "for x in range(slice_img_sizeHW[1]):\n",
    "    if x_to_ymax_20[x] >= 0 and x_to_ymax_40[x] >= 0 and x_to_ymax_60[x] >= 0:\n",
    "        p0 = (x_to_ymax_20[x], 20.0)\n",
    "        p1 = (x_to_ymax_40[x], 40.0)\n",
    "        p2 = (x_to_ymax_60[x], 60.0)\n",
    "        # Solve an overdetermined system of linear equations:\n",
    "        #      Az = d\n",
    "        # | x_0   1 | | a |   | y_0 |\n",
    "        # | x_1   1 | | b | = | y_1 |\n",
    "        # | x_2   1 |         | y_2 |\n",
    "        # >>> Build the A matrix and the d vector such that Az = d\n",
    "        A = None\n",
    "        d = None\n",
    "        ab, residuals, rank, s = np.linalg.lstsq(A, d, rcond=None)\n",
    "        a = ab[0, 0]\n",
    "        b = ab[1, 0]\n",
    "        x_to_a_b[x] = (a, b)\n",
    "    else:\n",
    "        x_to_a_b[x] = (None, None)\n"
   ]
  },
  {
   "cell_type": "code",
   "execution_count": null,
   "id": "0fc556b6",
   "metadata": {},
   "outputs": [],
   "source": [
    "# Plot the a, b parameters\n",
    "x_list = list(range(slice_img_sizeHW[1]))\n",
    "a_list = [x_to_a_b[x][0] for x in x_list]\n",
    "b_list = [x_to_a_b[x][1] for x in x_list]\n",
    "fig, axs = plt.subplots(2, 1)\n",
    "axs[0].plot(x_list, a_list)\n",
    "axs[0].set_xlim(0, slice_img_sizeHW[1] - 1)\n",
    "axs[0].set_xlabel('x')\n",
    "axs[0].set_ylabel('a')\n",
    "axs[0].grid(True)\n",
    "axs[1].plot(x_list, b_list)\n",
    "axs[1].set_xlim(0, slice_img_sizeHW[1] - 1)\n",
    "axs[1].set_xlabel('x')\n",
    "axs[1].set_ylabel('b')\n",
    "axs[1].grid(True)\n",
    "fig.tight_layout()\n",
    "plt.show()"
   ]
  },
  {
   "cell_type": "code",
   "execution_count": null,
   "id": "31929721",
   "metadata": {
    "scrolled": true
   },
   "outputs": [],
   "source": [
    "# Receive a slice image\n",
    "slice_img = cv2.imread(\"/usercode/images/topography/grabbed_object_slice.jpg\")\n",
    "plt.imshow(cv2.cvtColor(slice_img, cv2.COLOR_BGR2RGB))\n"
   ]
  },
  {
   "cell_type": "code",
   "execution_count": null,
   "id": "1957b4fd",
   "metadata": {},
   "outputs": [],
   "source": [
    "# Convert the slice image into a topographic slice\n",
    "# >>> Blur the red channel of slice_img\n",
    "blurred_slice_img = None\n",
    "heights = []\n",
    "for x in range(blurred_slice_img.shape[1]):\n",
    "    # >>> Locate the y where the intensity is maximum\n",
    "    _, max_val, _, max_loc = None\n",
    "    if max_val >= minimum_red_value:\n",
    "        y = max_loc[1]  # (0, y_max)\n",
    "        a = x_to_a_b[x][0]\n",
    "        b = x_to_a_b[x][1]\n",
    "        # >>> Reconstruct Y with a, b, and y\n",
    "        heights.append(None)\n",
    "    else:\n",
    "        heights.append(-1)  # Special flag for 'unknown'"
   ]
  },
  {
   "cell_type": "code",
   "execution_count": null,
   "id": "99e5fb9b",
   "metadata": {},
   "outputs": [],
   "source": [
    "# Display the topographic slice\n",
    "xs = np.arange(0, len(heights))\n",
    "fig, ax = plt.subplots()\n",
    "ax.scatter(xs, heights, c=\"blue\", marker='.')\n",
    "ax.set_xlabel('x')\n",
    "ax.set_ylabel('height (mm)')\n",
    "plt.show()"
   ]
  },
  {
   "cell_type": "code",
   "execution_count": null,
   "id": "6e9ae2df",
   "metadata": {},
   "outputs": [],
   "source": []
  }
 ],
 "metadata": {
  "kernelspec": {
   "display_name": "Python 3 (ipykernel)",
   "language": "python",
   "name": "python3"
  },
  "language_info": {
   "codemirror_mode": {
    "name": "ipython",
    "version": 3
   },
   "file_extension": ".py",
   "mimetype": "text/x-python",
   "name": "python",
   "nbconvert_exporter": "python",
   "pygments_lexer": "ipython3",
   "version": "3.10.6"
  }
 },
 "nbformat": 4,
 "nbformat_minor": 5
}
