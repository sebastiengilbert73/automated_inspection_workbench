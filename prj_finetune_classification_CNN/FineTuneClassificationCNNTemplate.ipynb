{
 "cells": [
  {
   "cell_type": "code",
   "execution_count": null,
   "id": "a504be02",
   "metadata": {},
   "outputs": [],
   "source": [
    "import torch\n",
    "import torchvision\n",
    "import matplotlib.pyplot as plt\n",
    "import random"
   ]
  },
  {
   "cell_type": "code",
   "execution_count": null,
   "id": "7c057c0b",
   "metadata": {},
   "outputs": [],
   "source": [
    "# >>> Load a pre-trained MobileNetV3 CNN and its associated transform\n",
    "neural_net = None\n",
    "transform = None"
   ]
  },
  {
   "cell_type": "code",
   "execution_count": null,
   "id": "accc8d69",
   "metadata": {},
   "outputs": [],
   "source": [
    "# >>> Overwrite the neural_net.classifier[3] layer with a linear layer having 10 outputs\n",
    "neural_net.classifier[3] = None"
   ]
  },
  {
   "cell_type": "code",
   "execution_count": null,
   "id": "5abe3d3b",
   "metadata": {},
   "outputs": [],
   "source": [
    "# Training parameters\n",
    "learning_rate = 0.001\n",
    "weight_decay = 0.000001\n",
    "criterion = torch.nn.CrossEntropyLoss()\n",
    "optimizer = torch.optim.Adam(neural_net.parameters(), lr=learning_rate, weight_decay=weight_decay)\n"
   ]
  },
  {
   "cell_type": "code",
   "execution_count": null,
   "id": "3efaaaab",
   "metadata": {},
   "outputs": [],
   "source": [
    "# Load the STL10 dataset\n",
    "stl10_dataset = torchvision.datasets.STL10(root='./', split='train', transform=transform,\n",
    "                                               download=True)\n",
    "train_dataset, validation_dataset = torch.utils.data.random_split(stl10_dataset, [0.8, 0.2])\n",
    "batch_size = 16\n",
    "train_dataloader = torch.utils.data.DataLoader(train_dataset, batch_size=batch_size, sampler=None)\n",
    "validation_dataloader = torch.utils.data.DataLoader(validation_dataset, batch_size=batch_size, sampler=None)\n",
    "# List of human-readable classes\n",
    "stl10_classes = ['airplane', 'bird', 'car', 'cat', 'deer', 'dog', 'horse', 'monkey', 'ship', 'truck']"
   ]
  },
  {
   "cell_type": "code",
   "execution_count": null,
   "id": "dfa4a5d7",
   "metadata": {},
   "outputs": [],
   "source": [
    "# Display some images from the dataset\n",
    "# Create an array of images\n",
    "number_of_rows = 6\n",
    "number_of_columns = 4\n",
    "fig, axs = plt.subplots(number_of_rows, number_of_columns)\n",
    "for row in range(number_of_rows):\n",
    "    for col in range(number_of_columns):\n",
    "        index = random.randint(0, len(stl10_dataset) - 1)  # Choose a random index from the dataset\n",
    "        img_tsr, class_ndx = stl10_dataset[index]  # Get the image tensor and the target class index\n",
    "        img_tsr = torch.moveaxis(img_tsr, 0, 2)  # (C, H, W) -> (H, W, C)\n",
    "        # Set the range to [0, 1]\n",
    "        min_val = torch.min(img_tsr)\n",
    "        max_val = torch.max(img_tsr)\n",
    "        img_tsr = (img_tsr - min_val)/(max_val - min_val)\n",
    "        axs[row, col].imshow(img_tsr.squeeze(0).numpy())\n",
    "plt.show()"
   ]
  },
  {
   "cell_type": "code",
   "execution_count": null,
   "id": "1a1ac232",
   "metadata": {},
   "outputs": [],
   "source": [
    "# Record statistics\n",
    "epochs = []\n",
    "train_losses = []\n",
    "validation_losses = []\n",
    "accuracies = []\n",
    "number_of_epochs = 4\n",
    "highest_validation_accuracy = 0.0\n",
    "champion_neural_net = None\n",
    "\n",
    "def numberOfCorrectPredictions(predictions_tsr, target_class_tsr):\n",
    "    return sum(torch.argmax(predictions_tsr, dim=1) == target_class_tsr).item()"
   ]
  },
  {
   "cell_type": "code",
   "execution_count": null,
   "id": "4a9b9c99",
   "metadata": {},
   "outputs": [],
   "source": [
    "# The training loop\n",
    "# >>> Write the code that must run in the training and validation parts of the loop\n",
    "for epoch in range(1, number_of_epochs + 1):\n",
    "    # Set the neural network to training mode\n",
    "    neural_net.train()\n",
    "    running_loss = 0.0\n",
    "    number_of_batches = 0\n",
    "    for input_tsr, target_class_tsr in train_dataloader:\n",
    "        # >>> Write the code that must run in the training part of the loop\n",
    "\n",
    "        running_loss += loss.item()\n",
    "        number_of_batches += 1\n",
    "        if number_of_batches % 10 == 1:\n",
    "            print('.', flush=True, end='')\n",
    "    average_training_loss = running_loss / number_of_batches\n",
    "\n",
    "    # Evaluate with the validation dataset\n",
    "    # Set the neural network to evaluation (inference) mode\n",
    "    neural_net.eval()\n",
    "    validation_running_loss = 0.0\n",
    "    number_of_batches = 0\n",
    "    number_of_correct_predictions = 0\n",
    "    number_of_predictions = 0\n",
    "    for validation_input_tsr, validation_target_output_tsr in validation_dataloader:\n",
    "        # >>> Write the code that must run in the validation part of the loop\n",
    "        \n",
    "        number_of_correct_predictions += numberOfCorrectPredictions(validation_output_tsr,\n",
    "                                                                    validation_target_output_tsr)\n",
    "        number_of_predictions += validation_input_tsr.shape[0]\n",
    "        number_of_batches += 1\n",
    "    average_validation_loss = validation_running_loss / number_of_batches\n",
    "    accuracy = number_of_correct_predictions / number_of_predictions\n",
    "    print(\n",
    "        f\"Epoch {epoch}: average_training_loss = {average_training_loss}; average_validation_loss = {average_validation_loss}; accuracy = {accuracy}\")\n",
    "    epochs.append(epoch)\n",
    "    train_losses.append(average_training_loss)\n",
    "    validation_losses.append(average_validation_loss)\n",
    "    accuracies.append(accuracy)\n",
    "\n",
    "    if (accuracy > highest_validation_accuracy):\n",
    "        print(f\" * * * * Champion! * * * * \")\n",
    "        torch.save(neural_net.state_dict(), \"./neural_net.pth\")\n",
    "        highest_validation_accuracy = accuracy\n",
    "        champion_neural_net = neural_net"
   ]
  },
  {
   "cell_type": "code",
   "execution_count": null,
   "id": "ee4786d3",
   "metadata": {},
   "outputs": [],
   "source": [
    "# Display the evolution of the metrics\n",
    "fig1, ax1 = plt.subplots()\n",
    "ax1.set_xlabel('epoch')\n",
    "ax1.set_ylabel('loss')\n",
    "ax1.plot(epochs, train_losses, color='b', label='Training loss')\n",
    "ax1.plot(epochs, validation_losses, color='r', label='Validation loss')\n",
    "ax1.grid(True)\n",
    "ax1.legend(loc='right')\n",
    "ax2 = ax1.twinx()  # Instantiate a second axis that shares the same x-axis\n",
    "ax2.set_ylabel('accuracy', color='g')\n",
    "ax2.plot(epochs, accuracies, color='g', label='Accuracy')\n",
    "ax2.legend(loc='upper right')\n",
    "plt.show()"
   ]
  },
  {
   "cell_type": "code",
   "execution_count": null,
   "id": "40e623b9",
   "metadata": {},
   "outputs": [],
   "source": [
    "# Test the champion neural network\n",
    "stl10_test_dataset = torchvision.datasets.STL10(root=\"./\", split='test', transform=transform, download=False)"
   ]
  },
  {
   "cell_type": "code",
   "execution_count": null,
   "id": "a0ac758e",
   "metadata": {},
   "outputs": [],
   "source": [
    "# >>> Choose a random index in [0, 7999]\n",
    "sample_ndx = None\n",
    "sample_test_tsr, class_ndx = stl10_test_dataset[sample_ndx]\n",
    "champion_neural_net.eval()\n",
    "sample_output_tsr = champion_neural_net(sample_test_tsr.unsqueeze(0) )\n",
    "print(f\"sample_output_tsr = \\n{sample_output_tsr}\")\n",
    "predicted_class = torch.argmax(sample_output_tsr, dim=1).item()\n",
    "print(f\"predicted_class = {predicted_class} ({stl10_classes[predicted_class]}); True class = {class_ndx} ({stl10_classes[class_ndx]})\")"
   ]
  },
  {
   "cell_type": "code",
   "execution_count": null,
   "id": "775a1edf",
   "metadata": {},
   "outputs": [],
   "source": [
    "sample_test_tsr = torch.moveaxis(sample_test_tsr, 0, 2)\n",
    "# Set the range to [0, 1]\n",
    "min_val = torch.min(sample_test_tsr)\n",
    "max_val = torch.max(sample_test_tsr)\n",
    "sample_test_tsr = (sample_test_tsr - min_val)/(max_val - min_val)\n",
    "plt.imshow(sample_test_tsr.squeeze(0))"
   ]
  }
 ],
 "metadata": {
  "kernelspec": {
   "display_name": "Python 3 (ipykernel)",
   "language": "python",
   "name": "python3"
  },
  "language_info": {
   "codemirror_mode": {
    "name": "ipython",
    "version": 3
   },
   "file_extension": ".py",
   "mimetype": "text/x-python",
   "name": "python",
   "nbconvert_exporter": "python",
   "pygments_lexer": "ipython3",
   "version": "3.10.6"
  }
 },
 "nbformat": 4,
 "nbformat_minor": 5
}
